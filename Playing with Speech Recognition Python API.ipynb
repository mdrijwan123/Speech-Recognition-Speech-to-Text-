{
 "cells": [
  {
   "cell_type": "markdown",
   "metadata": {},
   "source": [
    "### Speech Recognition API importing"
   ]
  },
  {
   "cell_type": "code",
   "execution_count": 3,
   "metadata": {},
   "outputs": [],
   "source": [
    "# libraries to install:\n",
    "# Speech_recognition\n",
    "# pyaudio\n",
    "# portaudio\n",
    "# gtts\n",
    "# pyttsx3\n",
    "# translate"
   ]
  },
  {
   "cell_type": "code",
   "execution_count": 4,
   "metadata": {},
   "outputs": [],
   "source": [
    "import speech_recognition as sr\n",
    "import sys"
   ]
  },
  {
   "cell_type": "code",
   "execution_count": 5,
   "metadata": {},
   "outputs": [],
   "source": [
    "r = sr.Recognizer()"
   ]
  },
  {
   "cell_type": "markdown",
   "metadata": {},
   "source": [
    "### Google Speech API through Microphone"
   ]
  },
  {
   "cell_type": "code",
   "execution_count": 8,
   "metadata": {},
   "outputs": [
    {
     "name": "stdout",
     "output_type": "stream",
     "text": [
      "API result:Google speech API through microphone\n"
     ]
    }
   ],
   "source": [
    "with sr.Microphone() as source:\n",
    "    audio = r.listen(source)\n",
    "try:\n",
    "    print(\"API result:{}\".format(r.recognize_google(audio)))\n",
    "except  Exception:\n",
    "    print(\"Not able to hear properly\")"
   ]
  },
  {
   "cell_type": "markdown",
   "metadata": {},
   "source": [
    "### Google Speech API print file"
   ]
  },
  {
   "cell_type": "code",
   "execution_count": 10,
   "metadata": {},
   "outputs": [
    {
     "name": "stdout",
     "output_type": "stream",
     "text": [
      "API result:this is the Google speech API from a saved file\n"
     ]
    }
   ],
   "source": [
    "with sr.AudioFile('Saved_file.wav') as source:\n",
    "    audio = r.listen(source)\n",
    "try:\n",
    "    print(\"API result:{}\".format(r.recognize_google(audio)))\n",
    "except  Exception:\n",
    "    print(\"Not able to hear properly\")"
   ]
  },
  {
   "cell_type": "markdown",
   "metadata": {},
   "source": [
    "### Converting text to Speech using gTTS (Google Text-to-Speech)"
   ]
  },
  {
   "cell_type": "code",
   "execution_count": 11,
   "metadata": {},
   "outputs": [],
   "source": [
    "# to speech conversion \n",
    "from gtts import gTTS "
   ]
  },
  {
   "cell_type": "code",
   "execution_count": 12,
   "metadata": {},
   "outputs": [],
   "source": [
    "# This module is imported so that we can  \n",
    "# play the converted audio \n",
    "import os"
   ]
  },
  {
   "cell_type": "markdown",
   "metadata": {},
   "source": [
    "### Using both Speech-Text-speech"
   ]
  },
  {
   "cell_type": "code",
   "execution_count": 16,
   "metadata": {},
   "outputs": [],
   "source": [
    "with sr.Microphone() as source:\n",
    "    audio = r.listen(source)\n",
    "try:\n",
    "    # The text that you want to convert to audio \n",
    "    mytext = r.recognize_google(audio)\n",
    "  \n",
    "    # Language in which you want to convert \n",
    "    language = 'en'\n",
    "  \n",
    "    # Passing the text and language to the engine,  \n",
    "    # here we have marked slow=False. Which tells  \n",
    "    # the module that the converted audio should  \n",
    "    # have a high speed \n",
    "    myobj = gTTS(text=mytext, lang=language, slow=False) \n",
    "except  Exception:\n",
    "    print(\"Cannot hear, please repeat\")\n"
   ]
  },
  {
   "cell_type": "code",
   "execution_count": 17,
   "metadata": {},
   "outputs": [],
   "source": [
    "# Saving the converted audio in a mp3 file named \n",
    "# welcome  \n",
    "myobj.save(\"Save_text_to_speech_file.mp3\") "
   ]
  },
  {
   "cell_type": "code",
   "execution_count": 18,
   "metadata": {},
   "outputs": [
    {
     "data": {
      "text/plain": [
       "0"
      ]
     },
     "execution_count": 18,
     "metadata": {},
     "output_type": "execute_result"
    }
   ],
   "source": [
    "# Playing the converted file \n",
    "os.system(\"Save_text_to_speech_file.mp3\") "
   ]
  },
  {
   "cell_type": "markdown",
   "metadata": {},
   "source": [
    "### pyttsx3 is a text-to-speech conversion library in Python. Unlike alternative libraries, it works offline, and is compatible with both Python 2 and python 3"
   ]
  },
  {
   "cell_type": "code",
   "execution_count": 19,
   "metadata": {},
   "outputs": [],
   "source": [
    "# import library\n",
    "import pyttsx3"
   ]
  },
  {
   "cell_type": "code",
   "execution_count": 20,
   "metadata": {},
   "outputs": [],
   "source": [
    "engine = pyttsx3.init()\n",
    "engine.say(\"I will speak this text\")\n",
    "engine.runAndWait()"
   ]
  },
  {
   "cell_type": "markdown",
   "metadata": {},
   "source": [
    "### Changing Voice , Rate and Volume :"
   ]
  },
  {
   "cell_type": "code",
   "execution_count": 21,
   "metadata": {},
   "outputs": [
    {
     "name": "stdout",
     "output_type": "stream",
     "text": [
      "200\n",
      "1.0\n"
     ]
    }
   ],
   "source": [
    "engine = pyttsx3.init() # object creation\n",
    "\n",
    "\"\"\" RATE\"\"\"\n",
    "rate = engine.getProperty('rate')   # getting details of current speaking rate\n",
    "print (rate)                        #printing current voice rate\n",
    "engine.setProperty('rate', 125)     # setting up new voice rate\n",
    "\n",
    "\n",
    "\"\"\"VOLUME\"\"\"\n",
    "volume = engine.getProperty('volume')   #getting to know current volume level (min=0 and max=1)\n",
    "print (volume)                          #printing current volume level\n",
    "engine.setProperty('volume',1.0)    # setting up volume level  between 0 and 1\n",
    "\n",
    "\"\"\"VOICE\"\"\"\n",
    "voices = engine.getProperty('voices')       #getting details of current voice\n",
    "#engine.setProperty('voice', voices[0].id)  #changing index, changes voices. o for male\n",
    "engine.setProperty('voice', voices[1].id)   #changing index, changes voices. 1 for female\n",
    "\n",
    "engine.say(\"Hello World!\")\n",
    "engine.say('My current speaking rate is ' + str(rate))\n",
    "engine.runAndWait()\n",
    "engine.stop()"
   ]
  },
  {
   "cell_type": "markdown",
   "metadata": {},
   "source": [
    "### Using Google api and pyttsx3 both"
   ]
  },
  {
   "cell_type": "code",
   "execution_count": 14,
   "metadata": {},
   "outputs": [],
   "source": [
    "with sr.Microphone() as source:\n",
    "    audio = r.listen(source)\n",
    "try:\n",
    "    # The text that you want to convert to audio \n",
    "    mytext = r.recognize_google(audio)\n",
    "  \n",
    "    engine.say(mytext)\n",
    "    #engine.say(' and My current speaking rate is ' + str(rate))\n",
    "    engine.runAndWait()\n",
    "    engine.stop()\n",
    "except  Exception:\n",
    "    print(\"Cannot hear, please repeat\")"
   ]
  },
  {
   "cell_type": "markdown",
   "metadata": {},
   "source": [
    "### Now we try Translation from one language to another"
   ]
  },
  {
   "cell_type": "code",
   "execution_count": 22,
   "metadata": {},
   "outputs": [],
   "source": [
    "# import translator \n",
    "from translate import Translator"
   ]
  },
  {
   "cell_type": "markdown",
   "metadata": {},
   "source": [
    "#### Translated correctly"
   ]
  },
  {
   "cell_type": "code",
   "execution_count": 23,
   "metadata": {},
   "outputs": [
    {
     "name": "stdout",
     "output_type": "stream",
     "text": [
      "ठीक है, मुझे अपना नाम बताओ?\n"
     ]
    }
   ],
   "source": [
    "translator= Translator(from_lang='english',to_lang=\"hindi\")\n",
    "translation = translator.translate(\"Okay, tell me your name?\")\n",
    "print(translation)"
   ]
  },
  {
   "cell_type": "code",
   "execution_count": 24,
   "metadata": {},
   "outputs": [
    {
     "name": "stdout",
     "output_type": "stream",
     "text": [
      "आपको ज़्यादा क्या पसंद है\n"
     ]
    }
   ],
   "source": [
    "translator= Translator(from_lang='english',to_lang=\"hindi\")\n",
    "translation = translator.translate(\"What you like most\")\n",
    "print(translation)"
   ]
  },
  {
   "cell_type": "code",
   "execution_count": 25,
   "metadata": {},
   "outputs": [],
   "source": [
    "# So, let's finally we convert a speech from microphone to hindi speech while translating english to hindi"
   ]
  },
  {
   "cell_type": "markdown",
   "metadata": {},
   "source": [
    "### Can't speak hindi language using speech to hindi speech in pyttsxx"
   ]
  },
  {
   "cell_type": "code",
   "execution_count": 26,
   "metadata": {},
   "outputs": [],
   "source": [
    "with sr.Microphone() as source:\n",
    "    audio = r.listen(source)\n",
    "try:\n",
    "    # The text that you want to convert to audio \n",
    "    mytext = r.recognize_google(audio)\n",
    "    translator= Translator(from_lang='english',to_lang=\"hindi\")\n",
    "    translation = translator.translate(mytext)\n",
    "    engine.say(translation)\n",
    "    #engine.say(' and My current speaking rate is ' + str(rate))\n",
    "    engine.runAndWait()\n",
    "    engine.stop()\n",
    "except  Exception:\n",
    "    print(\"Cannot hear, please repeat\")"
   ]
  },
  {
   "cell_type": "markdown",
   "metadata": {},
   "source": [
    "### Can speak speech to speech(Hindi) but require lot's of time to process due to internet connection"
   ]
  },
  {
   "cell_type": "code",
   "execution_count": 27,
   "metadata": {},
   "outputs": [],
   "source": [
    "with sr.Microphone() as source:\n",
    "    audio = r.listen(source)\n",
    "try:\n",
    "    # The text that you want to convert to audio \n",
    "    mytext = r.recognize_google(audio)\n",
    "    translator= Translator(from_lang='english',to_lang=\"hindi\")\n",
    "    translation = translator.translate(mytext)\n",
    "    # Language in which you want to convert \n",
    "    language = 'hi'\n",
    "    # Passing the text and language to the engine,  \n",
    "    # here we have marked slow=False. Which tells  \n",
    "    # the module that the converted audio should  \n",
    "    # have a high speed \n",
    "    myobj = gTTS(text=translation, lang=language, slow=False) \n",
    "    # Save the file\n",
    "    myobj.save(\"Save_conv_file.mp3\")\n",
    "    # Playing the converted file \n",
    "    os.system(\"Save_conv_file.mp3\") \n",
    "except  Exception:\n",
    "    print(\"Cannot hear, please repeat\")"
   ]
  },
  {
   "cell_type": "markdown",
   "metadata": {},
   "source": [
    "### GTTS Text to speech in all language"
   ]
  },
  {
   "cell_type": "code",
   "execution_count": null,
   "metadata": {},
   "outputs": [
    {
     "name": "stdout",
     "output_type": "stream",
     "text": [
      "Now this text to speech conversion is available in Indian languages!\n",
      "\n",
      "Enter the language first in which you want to run this 'text to speech' program\n",
      "Here are the options for you!\n",
      "\n",
      "use '1' for hindi\n",
      "use '2' for arbic\n",
      "use '3' for bengali\n",
      "use '4' for tamil\n",
      "use '5' for UK-English\n",
      "use '6' for US-English\n",
      "use '0' to close\n",
      "ALWAYS WRITE YOUR TEXT ACCORDING TO YOUR LANGUAGE PHONETICS\n",
      "\n",
      "Now please enter your preference : 1\n",
      "Enter a text : How are you\n",
      "\n",
      "Save and then collect the files from directory\n",
      "Do you want to save as a audio file(y/n) : y\n",
      "Enter a file name  : save_hindi\n",
      "\n",
      "Enter the language first in which you want to run this 'text to speech' program\n",
      "Here are the options for you!\n",
      "\n",
      "use '1' for hindi\n",
      "use '2' for arbic\n",
      "use '3' for bengali\n",
      "use '4' for tamil\n",
      "use '5' for UK-English\n",
      "use '6' for US-English\n",
      "use '0' to close\n",
      "ALWAYS WRITE YOUR TEXT ACCORDING TO YOUR LANGUAGE PHONETICS\n",
      "\n"
     ]
    }
   ],
   "source": [
    "\"\"\"\n",
    "install gTTS module, turn the internet on and run this file in your own machine.\n",
    "Don't forget to like it!\n",
    "version : 1.0\n",
    "author : Shibaayan\n",
    "Suggestion for improvement and modofication quite appreciated.\n",
    "\n",
    "\"\"\"\n",
    "\n",
    "#introductions for user\n",
    "print(\"Now this text to speech conversion is available in Indian languages!\")\n",
    "\n",
    "while True:\n",
    "    #introduction for user\n",
    "    print(\"\\nEnter the language first in which you want to run this 'text to speech' program\\nHere are the options for you!\\n\")\n",
    "    print(\"use '1' for hindi\\nuse '2' for arbic\\nuse '3' for bengali\\nuse '4' for tamil\\nuse '5' for UK-English\\nuse '6' for US-English\\nuse '0' to close\")\n",
    "    print(\"ALWAYS WRITE YOUR TEXT ACCORDING TO YOUR LANGUAGE PHONETICS\\n\")\n",
    "\n",
    "    #available gTTS-language-codes taken\n",
    "    options = [\"hi\",\"ar\",\"bn\",\"ta\",\"en-uk\",\"en-us\"]\n",
    "\n",
    "    #taking the preference\n",
    "    pref = int(input(\"Now please enter your preference : \"))\n",
    "    \n",
    "    #taking the language for gTTS text-to-speech operation\n",
    "    if pref<=5:\n",
    "        language = options[pref-1]\n",
    "    if pref==0:\n",
    "        exit(0)\n",
    "    \n",
    "    #main input by user for text-to-speech operation\n",
    "    mytext = input(\"Enter a text : \")\n",
    "     \n",
    "    #creating an object for gTTS text-to-speech operation\n",
    "    myobj = gTTS(text=mytext, lang=language, slow=False)\n",
    "\n",
    "    #saving as a audio_file and txt_file inside a directory\n",
    "    def save_file():\n",
    "        #entering the general file name\n",
    "        #this file_input will be used to create a directory and the input text file and output audiofile inside the directory                        \n",
    "        file_input = input(\"Enter a file name  : \")\n",
    "        audio_file = (file_input+\".mp4\")\n",
    "        \n",
    "        #creating the directory\n",
    "        os.mkdir(file_input) \n",
    "        \n",
    "        #getting into the directory\n",
    "        os.chdir(os.getcwd()+'/'+file_input)\n",
    "        \n",
    "        #saving the audio_file '<file_input>.mp4' into the directory\n",
    "        myobj.save(audio_file)\n",
    "        \n",
    "        #running the audio_file '<file_input>.mp4'                    //was not working in ubuntu! still you will get the files\n",
    "        os.system(audio_file)\n",
    "        \n",
    "        #opening,writing and closing the text file '<file_input>.txt'\n",
    "        txt_file = open(file_input+\".txt\",\"w\")\n",
    "        txt_file.write(mytext)\n",
    "        txt_file.close()\n",
    "        exit(0)\n",
    "    \n",
    "    #just taking a preference\n",
    "    a = input(\"\\nSave and then collect the files from directory\\nDo you want to save as a audio file(y/n) : \")\n",
    "    \n",
    "    #if input is 'y' or 'Y' process runs to save the file\n",
    "    if a == 'y' or a == 'Y':\n",
    "        save_file()\n",
    "    else:\n",
    "        a = input(\"Press 0 to close : \")\n",
    "        exit(0)\n",
    "    if pref==0:\n",
    "        exit(0)"
   ]
  },
  {
   "cell_type": "code",
   "execution_count": null,
   "metadata": {},
   "outputs": [],
   "source": []
  }
 ],
 "metadata": {
  "kernelspec": {
   "display_name": "Python 3",
   "language": "python",
   "name": "python3"
  },
  "language_info": {
   "codemirror_mode": {
    "name": "ipython",
    "version": 3
   },
   "file_extension": ".py",
   "mimetype": "text/x-python",
   "name": "python",
   "nbconvert_exporter": "python",
   "pygments_lexer": "ipython3",
   "version": "3.7.3"
  }
 },
 "nbformat": 4,
 "nbformat_minor": 2
}
